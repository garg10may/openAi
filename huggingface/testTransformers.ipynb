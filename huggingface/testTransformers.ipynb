{
 "cells": [
  {
   "cell_type": "code",
   "execution_count": 1,
   "metadata": {},
   "outputs": [
    {
     "name": "stderr",
     "output_type": "stream",
     "text": [
      "c:\\Users\\garg1\\AppData\\Local\\Programs\\Python\\Python311\\Lib\\site-packages\\tqdm\\auto.py:21: TqdmWarning: IProgress not found. Please update jupyter and ipywidgets. See https://ipywidgets.readthedocs.io/en/stable/user_install.html\n",
      "  from .autonotebook import tqdm as notebook_tqdm\n",
      "No model was supplied, defaulted to distilbert-base-uncased-finetuned-sst-2-english and revision af0f99b (https://huggingface.co/distilbert-base-uncased-finetuned-sst-2-english).\n",
      "Using a pipeline without specifying a model name and revision in production is not recommended.\n",
      "Xformers is not installed correctly. If you want to use memory_efficient_attention to accelerate training use the following command to install Xformers\n",
      "pip install xformers.\n"
     ]
    },
    {
     "data": {
      "text/html": [
       "<div>\n",
       "<style scoped>\n",
       "    .dataframe tbody tr th:only-of-type {\n",
       "        vertical-align: middle;\n",
       "    }\n",
       "\n",
       "    .dataframe tbody tr th {\n",
       "        vertical-align: top;\n",
       "    }\n",
       "\n",
       "    .dataframe thead th {\n",
       "        text-align: right;\n",
       "    }\n",
       "</style>\n",
       "<table border=\"1\" class=\"dataframe\">\n",
       "  <thead>\n",
       "    <tr style=\"text-align: right;\">\n",
       "      <th></th>\n",
       "      <th>label</th>\n",
       "      <th>score</th>\n",
       "    </tr>\n",
       "  </thead>\n",
       "  <tbody>\n",
       "    <tr>\n",
       "      <th>0</th>\n",
       "      <td>NEGATIVE</td>\n",
       "      <td>0.934849</td>\n",
       "    </tr>\n",
       "  </tbody>\n",
       "</table>\n",
       "</div>"
      ],
      "text/plain": [
       "      label     score\n",
       "0  NEGATIVE  0.934849"
      ]
     },
     "execution_count": 1,
     "metadata": {},
     "output_type": "execute_result"
    }
   ],
   "source": [
    "#text classification\n",
    "\n",
    "from transformers import pipeline\n",
    "import pandas as pd\n",
    "\n",
    "text = '''\n",
    "Dear Amazon, last week I ordered an Optimus Prime action figure from your online store in Germany. Unfortunately, when I  opened the package, I discovered to my horror that I \n",
    "has been sent an action figure of Megatron instead! As a lifelong enemy of the Decepticons, I hope you can understand my dilemma. To resolve the issue, I demand an exchange of Megatron for the Optimus Prime\n",
    "figure I ordered. Enclosed are copies of my records concerning this purchase. I expect to hear from you soon. Sincerely, Bumblebee.\n",
    "'''\n",
    "\n",
    "classifier = pipeline('text-classification')\n",
    "outputs = classifier(text)\n",
    "pd.DataFrame(outputs)"
   ]
  },
  {
   "cell_type": "code",
   "execution_count": 2,
   "metadata": {},
   "outputs": [
    {
     "name": "stderr",
     "output_type": "stream",
     "text": [
      "No model was supplied, defaulted to dbmdz/bert-large-cased-finetuned-conll03-english and revision f2482bf (https://huggingface.co/dbmdz/bert-large-cased-finetuned-conll03-english).\n",
      "Using a pipeline without specifying a model name and revision in production is not recommended.\n"
     ]
    },
    {
     "data": {
      "text/html": [
       "<div>\n",
       "<style scoped>\n",
       "    .dataframe tbody tr th:only-of-type {\n",
       "        vertical-align: middle;\n",
       "    }\n",
       "\n",
       "    .dataframe tbody tr th {\n",
       "        vertical-align: top;\n",
       "    }\n",
       "\n",
       "    .dataframe thead th {\n",
       "        text-align: right;\n",
       "    }\n",
       "</style>\n",
       "<table border=\"1\" class=\"dataframe\">\n",
       "  <thead>\n",
       "    <tr style=\"text-align: right;\">\n",
       "      <th></th>\n",
       "      <th>entity_group</th>\n",
       "      <th>score</th>\n",
       "      <th>word</th>\n",
       "      <th>start</th>\n",
       "      <th>end</th>\n",
       "    </tr>\n",
       "  </thead>\n",
       "  <tbody>\n",
       "    <tr>\n",
       "      <th>0</th>\n",
       "      <td>ORG</td>\n",
       "      <td>0.881478</td>\n",
       "      <td>Amazon</td>\n",
       "      <td>6</td>\n",
       "      <td>12</td>\n",
       "    </tr>\n",
       "    <tr>\n",
       "      <th>1</th>\n",
       "      <td>MISC</td>\n",
       "      <td>0.990439</td>\n",
       "      <td>Optimus Prime</td>\n",
       "      <td>37</td>\n",
       "      <td>50</td>\n",
       "    </tr>\n",
       "    <tr>\n",
       "      <th>2</th>\n",
       "      <td>LOC</td>\n",
       "      <td>0.999753</td>\n",
       "      <td>Germany</td>\n",
       "      <td>91</td>\n",
       "      <td>98</td>\n",
       "    </tr>\n",
       "    <tr>\n",
       "      <th>3</th>\n",
       "      <td>MISC</td>\n",
       "      <td>0.564085</td>\n",
       "      <td>Mega</td>\n",
       "      <td>211</td>\n",
       "      <td>215</td>\n",
       "    </tr>\n",
       "    <tr>\n",
       "      <th>4</th>\n",
       "      <td>PER</td>\n",
       "      <td>0.588245</td>\n",
       "      <td>##tron</td>\n",
       "      <td>215</td>\n",
       "      <td>219</td>\n",
       "    </tr>\n",
       "    <tr>\n",
       "      <th>5</th>\n",
       "      <td>ORG</td>\n",
       "      <td>0.672827</td>\n",
       "      <td>Decept</td>\n",
       "      <td>256</td>\n",
       "      <td>262</td>\n",
       "    </tr>\n",
       "    <tr>\n",
       "      <th>6</th>\n",
       "      <td>MISC</td>\n",
       "      <td>0.495363</td>\n",
       "      <td>##icons</td>\n",
       "      <td>262</td>\n",
       "      <td>267</td>\n",
       "    </tr>\n",
       "    <tr>\n",
       "      <th>7</th>\n",
       "      <td>MISC</td>\n",
       "      <td>0.765792</td>\n",
       "      <td>Megatron</td>\n",
       "      <td>353</td>\n",
       "      <td>361</td>\n",
       "    </tr>\n",
       "    <tr>\n",
       "      <th>8</th>\n",
       "      <td>MISC</td>\n",
       "      <td>0.987283</td>\n",
       "      <td>Optimus Prime</td>\n",
       "      <td>370</td>\n",
       "      <td>383</td>\n",
       "    </tr>\n",
       "    <tr>\n",
       "      <th>9</th>\n",
       "      <td>PER</td>\n",
       "      <td>0.812155</td>\n",
       "      <td>Bumblebee</td>\n",
       "      <td>505</td>\n",
       "      <td>514</td>\n",
       "    </tr>\n",
       "  </tbody>\n",
       "</table>\n",
       "</div>"
      ],
      "text/plain": [
       "  entity_group     score           word  start  end\n",
       "0          ORG  0.881478         Amazon      6   12\n",
       "1         MISC  0.990439  Optimus Prime     37   50\n",
       "2          LOC  0.999753        Germany     91   98\n",
       "3         MISC  0.564085           Mega    211  215\n",
       "4          PER  0.588245         ##tron    215  219\n",
       "5          ORG  0.672827         Decept    256  262\n",
       "6         MISC  0.495363        ##icons    262  267\n",
       "7         MISC  0.765792       Megatron    353  361\n",
       "8         MISC  0.987283  Optimus Prime    370  383\n",
       "9          PER  0.812155      Bumblebee    505  514"
      ]
     },
     "execution_count": 2,
     "metadata": {},
     "output_type": "execute_result"
    }
   ],
   "source": [
    "#Named entity recognition \n",
    "ner_tagger = pipeline(\"ner\", aggregation_strategy=\"simple\")\n",
    "outputs = ner_tagger(text)\n",
    "pd.DataFrame(outputs)"
   ]
  },
  {
   "cell_type": "code",
   "execution_count": 3,
   "metadata": {},
   "outputs": [
    {
     "name": "stderr",
     "output_type": "stream",
     "text": [
      "No model was supplied, defaulted to distilbert-base-cased-distilled-squad and revision 626af31 (https://huggingface.co/distilbert-base-cased-distilled-squad).\n",
      "Using a pipeline without specifying a model name and revision in production is not recommended.\n"
     ]
    },
    {
     "data": {
      "text/html": [
       "<div>\n",
       "<style scoped>\n",
       "    .dataframe tbody tr th:only-of-type {\n",
       "        vertical-align: middle;\n",
       "    }\n",
       "\n",
       "    .dataframe tbody tr th {\n",
       "        vertical-align: top;\n",
       "    }\n",
       "\n",
       "    .dataframe thead th {\n",
       "        text-align: right;\n",
       "    }\n",
       "</style>\n",
       "<table border=\"1\" class=\"dataframe\">\n",
       "  <thead>\n",
       "    <tr style=\"text-align: right;\">\n",
       "      <th></th>\n",
       "      <th>score</th>\n",
       "      <th>start</th>\n",
       "      <th>end</th>\n",
       "      <th>answer</th>\n",
       "    </tr>\n",
       "  </thead>\n",
       "  <tbody>\n",
       "    <tr>\n",
       "      <th>0</th>\n",
       "      <td>0.622535</td>\n",
       "      <td>338</td>\n",
       "      <td>361</td>\n",
       "      <td>an exchange of Megatron</td>\n",
       "    </tr>\n",
       "  </tbody>\n",
       "</table>\n",
       "</div>"
      ],
      "text/plain": [
       "      score  start  end                   answer\n",
       "0  0.622535    338  361  an exchange of Megatron"
      ]
     },
     "execution_count": 3,
     "metadata": {},
     "output_type": "execute_result"
    }
   ],
   "source": [
    "#Question Answering\n",
    "\n",
    "reader = pipeline('question-answering')\n",
    "question='What does the customer want?'\n",
    "outputs = reader(question=question, context=text)\n",
    "pd.DataFrame([outputs])"
   ]
  },
  {
   "cell_type": "code",
   "execution_count": 4,
   "metadata": {},
   "outputs": [
    {
     "name": "stderr",
     "output_type": "stream",
     "text": [
      "No model was supplied, defaulted to sshleifer/distilbart-cnn-12-6 and revision a4f8f3e (https://huggingface.co/sshleifer/distilbart-cnn-12-6).\n",
      "Using a pipeline without specifying a model name and revision in production is not recommended.\n"
     ]
    },
    {
     "name": "stdout",
     "output_type": "stream",
     "text": [
      " Bumblebee demands an exchange of Megatron for the Optimus Prime figure he ordered. The Decepticons are a lifelong enemy of the Decepticon.\n"
     ]
    }
   ],
   "source": [
    "#Summarization\n",
    "\n",
    "summarizer = pipeline('summarization')\n",
    "outputs = summarizer(text, min_length = 20, max_length=60, clean_up_tokenization_spaces=True) #oops, doesn't work as expected, even telling the source of the article\n",
    "print(outputs[0]['summary_text'])"
   ]
  },
  {
   "cell_type": "code",
   "execution_count": 5,
   "metadata": {},
   "outputs": [
    {
     "name": "stdout",
     "output_type": "stream",
     "text": [
      "प्रिय एमिला, पिछले सप्ताह मैंने जर्मनी में आपके ऑनलाइन स्टोर से एक ऑपिश क्रिया आकृति का आदेश दिया. दुःख की बात है, जब मैंने पैकेज खोला है, मुझे डर लगा कि मैं मेगानो की एक कार्य आकृति भेजा गया है! इसके बजाय, मैं आशा करता हूँ कि आप मेरी दुविधा को समझ सकते हैं. मुझे लगता है कि Megoligigiocighate के मामले की मांग की मांग की है, मैं अपनी दुकान के बारे में जल्द ही सुन रहा हूँ.\n"
     ]
    }
   ],
   "source": [
    "#Translation\n",
    "translator = pipeline('translation_en_to_hi', model=\"Helsinki-NLP/opus-mt-en-hi\") # :P not working\n",
    "# translator = pipeline('translation_en_to_hi', model='anjankumar/Anjan-finetuned-iitbombay-en-to-hi')  # same fine tuned version of above, so not working :P \n",
    "outputs = translator(text, clean_up_tokenization_spaces=True)\n",
    "print(outputs[0]['translation_text'])\n"
   ]
  },
  {
   "cell_type": "code",
   "execution_count": 6,
   "metadata": {},
   "outputs": [
    {
     "name": "stderr",
     "output_type": "stream",
     "text": [
      "Setting `pad_token_id` to `eos_token_id`:50256 for open-end generation.\n"
     ]
    },
    {
     "name": "stdout",
     "output_type": "stream",
     "text": [
      "\n",
      "Dear Amazon, last week I ordered an Optimus Prime action figure from your online store in Germany. Unfortunately, when I  opened the package, I discovered to my horror that I \n",
      "has been sent an action figure of Megatron instead! As a lifelong enemy of the Decepticons, I hope you can understand my dilemma. To resolve the issue, I demand an exchange of Megatron for the Optimus Prime\n",
      "figure I ordered. Enclosed are copies of my records concerning this purchase. I expect to hear from you soon. Sincerely, Bumblebee.\n",
      "\n",
      "\n",
      "Customer service response: Dear Bumblebee, I am sorry to hear that your order was mixed up. Please understand that our standard policy does not allow for such actions so, please accept my apologies. I'll have your order dispatched as soon as possible and should receive a response from you soon thereafter. Thanks for your understanding.\n",
      "\n",
      "Dear Bumblebee, I have no problem with Transformers: The Last Knight, but\n"
     ]
    }
   ],
   "source": [
    "#Text generation\n",
    "generator = pipeline('text-generation', model='gpt2-large')\n",
    "prompt = text + '\\n\\nCustomer service response: Dear Bumblebee, I am sorry to hear that your order was mixed up.'\n",
    "outputs = generator(prompt, min_length=100, max_length=200)\n",
    "print(outputs[0]['generated_text'])"
   ]
  },
  {
   "cell_type": "code",
   "execution_count": 19,
   "metadata": {},
   "outputs": [
    {
     "name": "stdout",
     "output_type": "stream",
     "text": [
      "The first 10 datasets are: ['acronym_identification', 'ade_corpus_v2', 'adversarial_qa', 'aeslc', 'afrikaans_ner_corpus', 'ag_news', 'ai2_arc', 'air_dialogue', 'ajgt_twitter_ar', 'allegro_reviews']\n",
      "All datasets are: ['acronym_identification', 'ade_corpus_v2', 'adversarial_qa', 'aeslc', 'afrikaans_ner_corpus', 'ag_news', 'ai2_arc', 'air_dialogue', 'ajgt_twitter_ar', 'allegro_reviews', 'allocine', 'alt', 'amazon_polarity', 'amazon_reviews_multi', 'amazon_us_reviews', 'ambig_qa', 'americas_nli', 'ami', 'amttl', 'anli', 'app_reviews', 'aqua_rat', 'aquamuse', 'ar_cov19', 'ar_res_reviews', 'ar_sarcasm', 'arabic_billion_words', 'arabic_pos_dialect', 'arabic_speech_corpus', 'arcd', 'arsentd_lev', 'art', 'arxiv_dataset', 'ascent_kb', 'aslg_pc12', 'asnq', 'asset', 'assin', 'assin2', 'atomic', 'autshumato', 'facebook/babi_qa', 'banking77', 'bbaw_egyptian', 'bbc_hindi_nli', 'bc2gm_corpus', 'beans', 'best2009', 'bianet', 'bible_para', 'big_patent', 'billsum', 'bing_coronavirus_query_set', 'biomrc', 'biosses', 'blbooks', 'blbooksgenre', 'blended_skill_talk', 'blimp', 'blog_authorship_corpus', 'bn_hate_speech', 'bnl_newspapers', 'bookcorpus', 'bookcorpusopen', 'boolq', 'bprec', 'break_data', 'brwac', 'bsd_ja_en', 'bswac', 'c3', 'c4', 'cail2018', 'caner', 'capes', 'casino', 'catalonia_independence', 'cats_vs_dogs', 'cawac', 'cbt', 'cc100', 'cc_news', 'ccaligned_multilingual', 'cdsc', 'cdt', 'cedr', 'cfq', 'chr_en', 'cifar10', 'cifar100', 'circa', 'civil_comments', 'clickbait_news_bg', 'climate_fever', 'clinc_oos', 'clue', 'cmrc2018', 'cmu_hinglish_dog', 'cnn_dailymail', 'coached_conv_pref', 'coarse_discourse', 'codah', 'code_search_net', 'code_x_glue_cc_clone_detection_big_clone_bench', 'code_x_glue_cc_clone_detection_poj104', 'code_x_glue_cc_cloze_testing_all', 'code_x_glue_cc_cloze_testing_maxmin', 'code_x_glue_cc_code_completion_line', 'code_x_glue_cc_code_completion_token', 'code_x_glue_cc_code_refinement', 'code_x_glue_cc_code_to_code_trans', 'code_x_glue_cc_defect_detection', 'code_x_glue_ct_code_to_text', 'code_x_glue_tc_nl_code_search_adv', 'code_x_glue_tc_text_to_code', 'code_x_glue_tt_text_to_text', 'com_qa', 'common_gen', 'common_language', 'common_voice', 'commonsense_qa', 'competition_math', 'compguesswhat', 'conceptnet5', 'conll2000', 'conll2002', 'conll2003', 'conllpp', 'consumer-finance-complaints', 'conv_ai', 'conv_ai_2', 'conv_ai_3', 'conv_questions', 'coqa', 'allenai/cord19', 'cornell_movie_dialog', 'cos_e', 'cosmos_qa', 'counter', 'covid_qa_castorini', 'covid_qa_deepset', 'covid_qa_ucsd', 'covid_tweets_japanese', 'covost2', 'cppe-5', 'craigslist_bargains', 'crawl_domain', 'crd3', 'crime_and_punish', 'crows_pairs', 'cryptonite', 'cs_restaurants', 'cuad', 'curiosity_dialogs', 'daily_dialog', 'dane', 'danish_political_comments', 'dart', 'datacommons_factcheck', 'dbpedia_14', 'dbrd', 'deal_or_no_dialog', 'definite_pronoun_resolution', 'dengue_filipino', 'dialog_re', 'diplomacy_detection', 'disaster_response_messages', 'discofuse', 'discovery', 'disfl_qa', 'doc2dial', 'docred', 'doqa', 'dream', 'drop', 'duorc', 'dutch_social', 'dyk', 'e2e_nlg', 'e2e_nlg_cleaned', 'ecb', 'ecthr_cases', 'eduge', 'ehealth_kd', 'eitb_parcc', 'electricity_load_diagrams', 'eli5', 'eli5_category', 'emea', 'emo', 'dair-ai/emotion', 'emotone_ar', 'empathetic_dialogues', 'enriched_web_nlg', 'eraser_multi_rc', 'esnli', 'eth_py150_open', 'ethos', 'eu_regulatory_ir', 'eurlex', 'euronews', 'europa_eac_tm', 'europa_ecdc_tm', 'europarl_bilingual', 'event2Mind', 'evidence_infer_treatment', 'exams', 'factckbr', 'fake_news_english', 'fake_news_filipino', 'farsi_news', 'fashion_mnist', 'fever', 'few_rel', 'financial_phrasebank', 'finer', 'flores', 'flue', 'food101', 'fquad', 'freebase_qa', 'gap', 'gem', 'generated_reviews_enth', 'generics_kb', 'german_legal_entity_recognition', 'germaner', 'germeval_14', 'giga_fren', 'gigaword', 'glucose', 'glue', 'gnad10', 'go_emotions', 'gooaq', 'google_wellformed_query', 'grail_qa', 'great_code', 'greek_legal_code', 'guardian_authorship', 'gutenberg_time', 'hans', 'hansards', 'hard', 'harem', 'has_part', 'hate_offensive', 'hate_speech18', 'hate_speech_filipino', 'hate_speech_offensive', 'hate_speech_pl', 'hate_speech_portuguese', 'hatexplain', 'hausa_voa_ner', 'hausa_voa_topics', 'hda_nli_hindi', 'head_qa', 'health_fact', 'hebrew_projectbenyehuda', 'hebrew_sentiment', 'hebrew_this_world', 'hellaswag', 'cais/mmlu', 'hind_encorp', 'hindi_discourse', 'hippocorpus', 'hkcancor', 'hlgd', 'hope_edi', 'hotpot_qa', 'hover', 'hrenwac_para', 'hrwac', 'humicroedit', 'hybrid_qa', 'hyperpartisan_news_detection', 'iapp_wiki_qa_squad', 'id_clickbait', 'id_liputan6', 'id_nergrit_corpus', 'id_newspapers_2018', 'id_panl_bppt', 'id_puisi', 'igbo_english_machine_translation', 'igbo_monolingual', 'igbo_ner', 'ilist', 'imdb', 'imdb_urdu_reviews', 'imppres', 'indic_glue', 'indonli', 'indonlp/indonlu', 'inquisitive_qg', 'interpress_news_category_tr', 'interpress_news_category_tr_lite', 'irc_disentangle', 'isixhosa_ner_corpus', 'isizulu_ner_corpus', 'iwslt2017', 'jeopardy', 'jfleg', 'jigsaw_toxicity_pred', 'jigsaw_unintended_bias', 'jnlpba', 'journalists_questions', 'kan_hope', 'kannada_news', 'kd_conv', 'kde4', 'kelm', 'kilt_tasks', 'kilt_wikipedia', 'kinnews_kirnews', 'klue', 'kor_3i4k', 'kor_hate', 'kor_ner', 'kor_nli', 'kor_nlu', 'kor_qpair', 'kor_sae', 'kor_sarcasm', 'labr', 'lama', 'lambada', 'large_spanish_corpus', 'laroseda', 'lc_quad', 'lener_br', 'lex_glue', 'liar', 'librispeech_asr', 'librispeech_lm', 'limit', 'lince', 'linnaeus', 'liveqa', 'lj_speech', 'lm1b', 'lst20', 'm_lama', 'mac_morpho', 'makhzan', 'masakhaner', 'math_dataset', 'math_qa', 'matinf', 'mbpp', 'mc4', 'mc_taco', 'md_gender_bias', 'mdd', 'med_hop', 'medal', 'medical_dialog', 'medical_questions_pairs', 'menyo20k_mt', 'meta_woz', 'metooma', 'metrec', 'miam', 'mkb', 'mkqa', 'mlqa', 'mlsum', 'mnist', 'mocha', 'moroco', 'movie_rationales', 'mrqa', 'ms_marco', 'ms_terms', 'msr_genomics_kbcomp', 'msr_sqa', 'msr_text_compression', 'msr_zhen_translation_parity', 'msra_ner', 'mt_eng_vietnamese', 'muchocine', 'multi_booked', 'multi_eurlex', 'multi_news', 'multi_nli', 'multi_nli_mismatch', 'multi_para_crawl', 'multi_re_qa', 'multi_woz_v22', 'multi_x_science_sum', 'multidoc2dial', 'multilingual_librispeech', 'mutual_friends', 'mwsc', 'myanmar_news', 'narrativeqa', 'narrativeqa_manual', 'natural_questions', 'ncbi_disease', 'nchlt', 'ncslgr', 'nell', 'neural_code_search', 'news_commentary', 'newsgroup', 'newsph', 'newsph_nli', 'newspop', 'newsqa', 'newsroom', 'nkjp-ner', 'nli_tr', 'nlu_evaluation_data', 'norec', 'norne', 'norwegian_ner', 'nq_open', 'nsmc', 'numer_sense', 'numeric_fused_head', 'oclar', 'offcombr', 'offenseval2020_tr', 'offenseval_dravidian', 'ofis_publik', 'ohsumed', 'ollie', 'omp', 'onestop_english', 'onestop_qa', 'open_subtitles', 'openai_humaneval', 'openbookqa', 'openslr', 'openwebtext', 'opinosis', 'opus100', 'opus_books', 'opus_dgt', 'opus_dogc', 'opus_elhuyar', 'opus_euconst', 'opus_finlex', 'opus_fiskmo', 'opus_gnome', 'opus_infopankki', 'opus_memat', 'opus_montenegrinsubs', 'opus_openoffice', 'opus_paracrawl', 'opus_rf', 'opus_tedtalks', 'opus_ubuntu', 'opus_wikipedia', 'opus_xhosanavy', 'orange_sum', 'oscar', 'para_crawl', 'para_pat', 'parsinlu_reading_comprehension', 'pass', 'paws-x', 'paws', 'pec', 'allenai/peer_read', 'peoples_daily_ner', 'per_sent', 'persian_ner', 'pg19', 'php', 'etalab-ia/piaf', 'pib', 'piqa', 'pn_summary', 'poem_sentiment', 'polemo2', 'poleval2019_cyberbullying', 'poleval2019_mt', 'polsum', 'polyglot_ner', 'prachathai67k', 'pragmeval', 'proto_qa', 'psc', 'ptb_text_only', 'pubmed', 'pubmed_qa', 'py_ast', 'qa4mre', 'qa_srl', 'qa_zre', 'qangaroo', 'qanta', 'qasc', 'allenai/qasper', 'qed', 'qed_amara', 'quac', 'quail', 'quarel', 'quartz', 'quora', 'quoref', 'race', 're_dial', 'reasoning_bg', 'recipe_nlg', 'reclor', 'red_caps', 'webis/tldr-17', 'reddit_tifu', 'refresd', 'reuters21578', 'riddle_sense', 'ro_sent', 'ro_sts', 'ro_sts_parallel', 'roman_urdu', 'ronec', 'ropes', 'rotten_tomatoes', 'RussianNLP/russian_super_glue', 'allenai/s2orc', 'samsum', 'sanskrit_classic', 'saudinewsnet', 'sberquad', 'scan', 'scb_mt_enth_2020', 'scene_parse_150', 'schema_guided_dstc8', 'allenai/scicite', 'scielo', 'scientific_papers', 'allenai/scifact', 'sciq', 'scitail', 'allenai/scitldr', 'search_qa', 'sede', 'selqa', 'sem_eval_2010_task_8', 'sem_eval_2014_task_1', 'sem_eval_2018_task_1', 'sem_eval_2020_task_11', 'sent_comp', 'senti_lex', 'senti_ws', 'sentiment140', 'sepedi_ner', 'sesotho_ner_corpus', 'setimes', 'setswana_ner_corpus', 'sharc', 'sharc_modified', 'sick', 'silicone', 'simple_questions_v2', 'siswati_ner_corpus', 'smartdata', 'sms_spam', 'snips_built_in_intents', 'snli', 'snow_simplified_japanese_corpus', 'so_stacksample', 'social_bias_frames', 'social_i_qa', 'sofc_materials_articles', 'sogou_news', 'spanish_billion_words', 'spc', 'species_800', 'speech_commands', 'spider', 'squad', 'squad_adversarial', 'squad_es', 'squad_it', 'squad_kor_v1', 'squad_kor_v2', 'squad_v1_pt', 'squad_v2', 'squadshifts', 'srwac', 'sst', 'stereoset', 'story_cloze', 'stsb_mt_sv', 'stsb_multi_mt', 'style_change_detection', 'subjqa', 'super_glue', 'superb', 'svhn', 'swag', 'swahili', 'swahili_news', 'swda', 'swedish_medical_ner', 'swedish_ner_corpus', 'swedish_reviews', 'rcds/swiss_judgment_prediction', 'tab_fact', 'tamilmixsentiment', 'tanzil', 'tapaco', 'tashkeela', 'taskmaster1', 'taskmaster2', 'taskmaster3', 'tatoeba', 'ted_hrlr', 'ted_iwlst2013', 'ted_multi', 'ted_talks_iwslt', 'telugu_books', 'telugu_news', 'tep_en_fa_para', 'text2log', 'thai_toxicity_tweet', 'thainer', 'thaiqa_squad', 'thaisum', 'EleutherAI/pile', 'the_pile_books3', 'the_pile_openwebtext2', 'the_pile_stack_exchange', 'tilde_model', 'time_dial', 'times_of_india_news_headlines', 'timit_asr', 'tiny_shakespeare', 'tlc', 'tmu_gfm_dataset', 'told-br', 'totto', 'trec', 'trivia_qa', 'tsac', 'ttc4900', 'tunizi', 'tuple_ie', 'turk', 'turkic_xwmt', 'turkish_movie_sentiment', 'turkish_ner', 'turkish_product_reviews', 'turkish_shrinked_ner', 'turku_ner_corpus', 'tweet_eval', 'tweet_qa', 'tweets_ar_en_parallel', 'tweets_hate_speech_detection', 'twi_text_c3', 'twi_wordsim353', 'tydiqa', 'ubuntu_dialogs_corpus', 'udhr', 'um005', 'un_ga', 'un_multi', 'un_pc', 'universal_dependencies', 'universal_morphologies', 'urdu_fake_news', 'urdu_sentiment_corpus', 'vctk', 'vivos', 'web_nlg', 'web_of_science', 'web_questions', 'weibo_ner', 'wi_locness', 'wider_face', 'wiki40b', 'wiki_asp', 'wiki_atomic_edits', 'wiki_auto', 'wiki_bio', 'wiki_dpr', 'wiki_hop', 'wiki_lingua', 'wiki_movies', 'wiki_qa', 'wiki_qa_ar', 'wiki_snippets', 'wiki_source', 'wiki_split', 'wiki_summary', 'wikiann', 'wikicorpus', 'wikihow', 'wikipedia', 'wikisql', 'wikitext', 'wikitext_tl39', 'wili_2018', 'wino_bias', 'winograd_wsc', 'winogrande', 'wiqa', 'wisesight1000', 'wisesight_sentiment', 'wmt14', 'wmt15', 'wmt16', 'wmt17', 'wmt18', 'wmt19', 'wmt20_mlqe_task1', 'wmt20_mlqe_task2', 'wmt20_mlqe_task3', 'wmt_t2t', 'wnut_17', 'wongnai_reviews', 'woz_dialogue', 'wrbsc', 'x_stance', 'xcopa', 'xcsr', 'xed_en_fi', 'xglue', 'xnli', 'xor_tydi_qa', 'xquad', 'xquad_r', 'xsum', 'xsum_factuality', 'xtreme', 'yahoo_answers_qa', 'yahoo_answers_topics', 'yelp_polarity', 'yelp_review_full', 'yoruba_bbc_topics', 'yoruba_gv_ner', 'yoruba_text_c3', 'yoruba_wordsim353', 'youtube_caption_corrections', 'zest', '0n1xus/codexglue', '0n1xus/pytorrent-standalone', 'AConsApart/anime_subtitles_DialoGPT', 'AHussain0418/day2_data', 'AHussain0418/day4data', 'AHussain0418/demo_data', 'AI-Sweden/SuperLim', 'AI-it/khs_service_test', 'AI-it/korean-hate-speech', 'ARKseal/YFCC14M_subset_webdataset', 'ARTeLab/fanpage', 'ARTeLab/ilpost', 'ARTeLab/mlsum-it', 'ASCCCCCCCC/amazon_zh', 'ASCCCCCCCC/amazon_zh_simple', 'Abdo1Kamr/Arabic_Hadith', 'Abirate/code_net_dataset', 'Abirate/code_net_dev_dataset', 'Abirate/code_net_test_final_dataset', 'Abirate/english_quotes', 'Abirate/french_book_reviews', 'AdWeeb/DravidianMT', 'Adnan/Urdu_News_Headlines', 'AhmadSawal/qa', 'AhmedSSoliman/CoNaLa', 'Aisha/BAAD16', 'Aisha/BAAD6', 'Akila/ForgottenRealmsWikiDataset', 'Akshith/aa', 'Akshith/g_rock', 'Akshith/test', 'adorkin/extended_tweet_emojis', 'AlekseyKorshuk/comedy-scripts', 'AlekseyKorshuk/horror-scripts', 'AlexMaclean/all-deletion-compressions', 'AlexMaclean/wikipedia-deletion-compressions', 'AlexZapolskii/zapolskii-amazon', 'AlgoveraAI/CryptoPunks', 'Aliseyfi/event_token_type', 'Alvenir/nst-da-16khz', 'AndrewMcDowell/de_corpora_parliament_processed', 'Annabelleabbott/real-fake-news-workshop', 'Annielytics/DoctorsNotes', 'Anurag-Singh-creator/task', 'Anurag-Singh-creator/tasks', 'ApiInferenceTest/asr_dummy', 'Arnold/hausa_common_voice', 'AryanLala/autonlp-data-Scientific_Title_Generator', 'Atsushi/fungi_diagnostic_chars_comparison_japanese', 'Atsushi/fungi_indexed_mycological_papers_japanese', 'Atsushi/fungi_trait_circus_database', 'Avishekavi/Avi', 'BSC-LT/SQAC', 'BSC-LT/ancora-ca-ner', 'BSC-LT/sts-ca', 'BSC-LT/tecla', 'BSC-LT/viquiquad', 'BSC-LT/xquad-ca', 'Babelscape/rebel-dataset', 'Babelscape/wikineural', 'BatuhanYilmaz/github-issues', 'Baybars/parla_text_corpus', 'BeIR/beir-corpus', 'BeIR/beir', 'Lacito/pangloss', 'Binbin/my_dataset', 'BlakesOrb6/Fred-Flintstone', 'Bosio/pacman', 'Bosio/pacman_descriptions', 'BritishLibraryLabs/EThOS-PhD-metadata', 'CAGER/rick', 'CALM/arwiki', 'CAiRE/ASCEND', 'CShorten/KerasBERT', 'ChadxxxxHall/Inter-vision', 'Champion/vpc2020_clear_anon_speech', 'Check/a_re_gi', 'Check/region_1', 'Check/region_2', 'Check/region_3', 'Check/region_4', 'Check/region_5', 'Check/region_6', 'Check/region_7', 'Check/region_8', 'Check/region_9', 'Check/regions', 'Check/vverify', 'Cheranga/test', 'ChristophSchuhmann/MS_COCO_2017_URL_TEXT', 'Chun/dataset', 'Chuu/Vhh', 'CodedotAI/code-clippy-tfrecords', 'CodedotAI/code_clippy', 'CodedotAI/code_clippy_github', 'Crives/haha', 'Cropinky/flatearther', 'Cropinky/rap_lyrics_english', 'Cropinky/wow_fishing_bobber', 'Cyberfish/pos_tagger', 'Cyberfish/text_error_correction', 'CyranoB/polarity', 'DDSC/angry-tweets', 'DDSC/dkhate', 'DDSC/europarl', 'DDSC/lcc', 'DDSC/partial-danish-gigaword-no-twitter', 'DDSC/reddit-da-asr-preprocessed', 'DDSC/reddit-da', 'DDSC/twitter-sent', 'DELith/github-issues', 'DSCI511G1/COP26_Energy_Transition_Tweets', 'DanL/scientific-challenges-and-directions-dataset', 'Daniele/dante-corpus', 'Darren/data', 'Datatang/accented_english', 'Datatang/accented_mandarin', 'Datatang/chinese_dialect', 'Datatang/mandarin_chinese', 'Datatang/mixed_speech_chinese_english', 'Datatang/multi_language', 'Datatang/multi_language_conversation', 'Davlan/conll2003_de_noMISC', 'Davlan/conll2003_noMISC', 'Davlan/masakhanerV1', 'DelgadoPanadero/Pokemon', 'DeskDown/ALTDataset', 'DeskDown/ALTDataset_en-to-fil-vi-id-ms-ja-khm', 'DiFronzo/Human_Activity_Recognition', 'Dmitriy612/1', 'DoctorSlimm/yipee', 'Doohae/klue-mrc-bm25', 'Doohae/modern_music_re', 'DoyyingFace/github-embeddings-doy', 'DoyyingFace/github-issues-doy', 'DrishtiSharma/as_opus100_processed', 'DrishtiSharma/bg_opus100_processed', 'DrishtiSharma/br_opus100_processed', 'DrishtiSharma/hi_opus100_processed', 'DrishtiSharma/kk_opus100_processed', 'DrishtiSharma/mr_opus100_processed', 'DrishtiSharma/or_opus100_processed', 'DrishtiSharma/sl_opus100_processed', 'DrishtiSharma/sr_opus100_processed', 'Dumiiii/common-voice-romaniarss', 'EMBO/biolang', 'EMBO/sd-nlp', 'ESZER/H', 'Emanuel/UD_Portuguese-Bosque', 'Emma121/aaaaa', 'Emma121/testtest', 'Enes3774/data', 'Exr0n/wiki-entity-similarity', 'Eymen3455/xsum_tr', 'FIG-Loneliness/FIG-Loneliness', 'FL33TW00D/test-dataset', 'FRTNX/cosuju', 'FRTNX/worldbank-projects', 'Felix-ML/quoteli3', 'Finnish-NLP/mc4_fi_cleaned', 'Firoj/HumAID', 'Francois/futures_es', 'Fraser/mnist-text-default', 'Fraser/mnist-text-no-spaces', 'Fraser/mnist-text-small', 'Fraser/dream-coder', 'Fraser/python-lines', 'Fraser/python-state-changes', 'Fraser/short-jokes', 'Fraser/wiki_sentences', 'GEM/ART', 'GEM/BiSECT', 'GEM/CrossWOZ', 'GEM/OrangeSum', 'GEM/RiSAWOZ', 'GEM/RotoWire_English-German', 'GEM/SIMPITIKI', 'GEM/SciDuet', 'GEM/Taskmaster', 'GEM/cochrane-simplification', 'GEM/common_gen', 'GEM/conversational_weather', 'GEM/cs_restaurants', 'GEM/dart', 'GEM/dstc10_track2_task2', 'GEM/e2e_nlg', 'GEM/indonlg', 'GEM/mlb_data_to_text', 'GEM/mlsum', 'GEM/opusparcus', 'GEM/references', 'GEM/schema_guided_dialog', 'GEM/sportsett_basketball', 'GEM/squad_v2', 'GEM/surface_realisation_st_2020', 'GEM/totto', 'GEM/turku_hockey_data2text', 'GEM/turku_paraphrase_corpus', 'GEM-submissions/v1-outputs-and-scores', 'GEM/viggo', 'GEM/web_nlg', 'GEM/wiki_auto_asset_turk', 'GEM/wiki_cat_sum', 'GEM/wiki_lingua', 'GEM/xlsum', 'GEM/xsum', 'GEM-submissions/GEM__bart_base_schema_guided_dialog__1645547915', 'GEM-submissions/Leo__bart-large__1645784880', 'GEM-submissions/Leo__mbart-large-cc25__1645802644', 'GEM-submissions/lewtun__hugging-face-test-t5-base.outputs.json-36bf2a59__1645558682', 'GEM-submissions/lewtun__hugging-face-test-t5-base.outputs.json-36bf2a59__1645559101', 'GEM-submissions/lewtun__hugging-face-test-t5-base.outputs.json-36bf2a59__1645800191', 'GEM-submissions/lewtun__hugging-face-test-t5-base.outputs.json-36bf2a59__1646049378', 'GEM-submissions/lewtun__hugging-face-test-t5-base.outputs.json-36bf2a59__1646049424', 'GEM-submissions/lewtun__hugging-face-test-t5-base.outputs.json-36bf2a59__1646049601', 'GEM-submissions/lewtun__hugging-face-test-t5-base.outputs.json-36bf2a59__1646049876', 'GEM-submissions/lewtun__hugging-face-test-t5-base.outputs.json-36bf2a59__1646050898', 'GEM-submissions/lewtun__hugging-face-test-t5-base.outputs.json-36bf2a59__1646051364', 'GEM-submissions/lewtun__hugging-face-test-t5-base.outputs.json-36bf2a59__1646052073', 'GEM-submissions/lewtun__this-is-a-test__1646052811', 'GEM-submissions/lewtun__this-is-a-test__1646230987', 'GEM-submissions/ratishsp', 'GEM-submissions/submission-scores', 'GV05/shlomit_speech', 'Gabriel/quora_swe', 'GalacticAI/Noirset', 'Gauravadlakha1509/new_one', 'GeoffVdr/cv8_trainval_processed', 'GonzaloA/fake_news', 'Graphcore/gqa-lxmert', 'Graphcore/gqa', 'Graphcore/vqa-lxmert', 'Graphcore/vqa', 'Graphcore/wikipedia-bert-128', 'Graphcore/wikipedia-bert-512', 'GroNLP/ik-nlp-22_pestyle', 'GroNLP/ik-nlp-22_slp', 'GroNLP/ik-nlp-22_transqe', 'GroNLP/ik-nlp-22_winemag', 'Gwangho/NCBI-Sars-Cov-2', 'HHousen/ParaSCI', 'HHousen/msrp', 'HHousen/quora', 'HUPD/hupd', 'Halilyesilceng/autonlp-data-nameEntityRecognition', 'HarleyQ/WitcherDialogue', 'HarrisDePerceptron/sv_corpora_parliament_processed', 'HarrisDePerceptron/ur_corpora_pib', 'Harveenchadha/bol-models', 'Harveenchadha/indic-voice', 'HarveyBWest/mybot', 'Hellisotherpeople/DebateSum', 'Helsinki-NLP/tatoeba_mt', 'HenryAI/KerasAPIReference.txt', 'HenryAI/KerasBERTv1-Data', 'HenryAI/KerasCodeExamples.txt', 'HenryAI/KerasDeveloperGuides.txt', 'Huertas97/autonlp-data-mami-semeval-20-21', 'Husain/intent-classification-en-fr', 'IFSTalfredoswald/MBTI', 'Iftoo95/Arabic_Sentiment_and_Topics', 'IlyaGusev/gazeta']\n"
     ]
    }
   ],
   "source": [
    "#Datasets\n",
    "from datasets import list_datasets\n",
    "all_datasets = list_datasets()\n",
    "print(f\"The first 10 datasets are: {all_datasets[:10]}\")"
   ]
  },
  {
   "cell_type": "code",
   "execution_count": null,
   "metadata": {},
   "outputs": [],
   "source": [
    "from datasets import load_dataset\n",
    "emotions = load_dataset('emotion')\n",
    "print(emotions)"
   ]
  }
 ],
 "metadata": {
  "kernelspec": {
   "display_name": "Python 3",
   "language": "python",
   "name": "python3"
  },
  "language_info": {
   "codemirror_mode": {
    "name": "ipython",
    "version": 3
   },
   "file_extension": ".py",
   "mimetype": "text/x-python",
   "name": "python",
   "nbconvert_exporter": "python",
   "pygments_lexer": "ipython3",
   "version": "3.11.4"
  },
  "orig_nbformat": 4
 },
 "nbformat": 4,
 "nbformat_minor": 2
}
